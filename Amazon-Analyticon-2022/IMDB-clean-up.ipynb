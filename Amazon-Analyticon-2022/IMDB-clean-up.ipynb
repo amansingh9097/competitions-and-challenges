{
 "cells": [
  {
   "cell_type": "code",
   "execution_count": 1,
   "id": "38a01e12",
   "metadata": {},
   "outputs": [],
   "source": [
    "import os\n",
    "import pandas as pd\n",
    "import numpy as np\n",
    "from matplotlib import pyplot as plt\n",
    "%matplotlib inline"
   ]
  },
  {
   "cell_type": "code",
   "execution_count": 2,
   "id": "de7b7880",
   "metadata": {},
   "outputs": [
    {
     "name": "stdout",
     "output_type": "stream",
     "text": [
      "total 1.2G\r\n",
      "-rw-r--r-- 1 amznamas amazon 6.1M Sep  2 04:40 title.ratings.tsv.gz\r\n",
      "-rw-r--r-- 1 amznamas amazon  36M Sep  2 04:40 title.episode.tsv.gz\r\n",
      "-rw-r--r-- 1 amznamas amazon  60M Sep  2 04:40 title.crew.tsv.gz\r\n",
      "-rw-r--r-- 1 amznamas amazon 154M Sep  2 04:40 title.basics.tsv.gz\r\n",
      "-rw-r--r-- 1 amznamas amazon 222M Sep  2 04:41 name.basics.tsv.gz\r\n",
      "-rw-r--r-- 1 amznamas amazon 268M Sep  2 04:41 title.akas.tsv.gz\r\n",
      "-rw-r--r-- 1 amznamas amazon 391M Sep  2 04:41 title.principals.tsv.gz\r\n"
     ]
    }
   ],
   "source": [
    "!ls -lrth data"
   ]
  },
  {
   "cell_type": "code",
   "execution_count": 24,
   "id": "23422799",
   "metadata": {},
   "outputs": [
    {
     "name": "stdout",
     "output_type": "stream",
     "text": [
      "loaded 'data/title.basics.tsv.gz' --> 'title_basics' named variable\n",
      "loaded 'data/title.ratings.tsv.gz' --> 'title_ratings' named variable\n",
      "loaded 'data/title.principals.tsv.gz' --> 'title_principals' named variable\n",
      "loaded 'data/title.akas.tsv.gz' --> 'title_akas' named variable\n",
      "loaded 'data/title.crew.tsv.gz' --> 'title_crew' named variable\n",
      "loaded 'data/name.basics.tsv.gz' --> 'name_basics' named variable\n",
      "loaded 'data/title.episode.tsv.gz' --> 'title_episode' named variable\n",
      "CPU times: user 2min 41s, sys: 17.7 s, total: 2min 59s\n",
      "Wall time: 2min 59s\n"
     ]
    }
   ],
   "source": [
    "%%time\n",
    "\n",
    "data_directory = 'data'\n",
    "\n",
    "for filename in os.listdir(data_directory):\n",
    "    f = os.path.join(data_directory, filename)\n",
    "    if f.endswith('.tsv.gz'):\n",
    "        name = f.split('/')[1].split('.tsv')[0].replace('.', '_')\n",
    "        # assigning variable name from string 'filename'\n",
    "        globals()[name] = pd.read_csv(f, compression='infer', delimiter='\\t', low_memory=False)\n",
    "        print(\"loaded '{}' --> '{}' named Pandas variable\".format(f, name))"
   ]
  },
  {
   "cell_type": "markdown",
   "id": "59267d65",
   "metadata": {},
   "source": [
    "## some cleaning-up"
   ]
  },
  {
   "cell_type": "markdown",
   "id": "d35b1cae",
   "metadata": {},
   "source": [
    "**title.akas.tsv.gz** - Contains the following information for titles:\n",
    "```\n",
    "titleId (string) - a tconst, an alphanumeric unique identifier of the title\n",
    "ordering (integer) – a number to uniquely identify rows for a given titleId\n",
    "title (string) – the localized title\n",
    "region (string) - the region for this version of the title\n",
    "language (string) - the language of the title\n",
    "types (array) - Enumerated set of attributes for this alternative title. One or more of the following: \"alternative\", \"dvd\", \"festival\", \"tv\", \"video\", \"working\", \"original\", \"imdbDisplay\". New values may be added in the future without warning\n",
    "attributes (array) - Additional terms to describe this alternative title, not enumerated\n",
    "isOriginalTitle (boolean) – 0: not original title; 1: original title\n",
    "```"
   ]
  },
  {
   "cell_type": "code",
   "execution_count": 7,
   "id": "504f4c17",
   "metadata": {
    "scrolled": false
   },
   "outputs": [],
   "source": [
    "title_akas.types = title_akas.types.replace(r'\\N', 'UNKNOWN')\n",
    "title_akas.title.fillna('UNKNOWN', inplace=True)\n",
    "title_akas.region = title_akas.region.replace(r'\\\\N', 'UNKNOWN')\n",
    "title_akas.region.fillna('UNKNOWN', inplace=True)\n",
    "title_akas.language = title_akas.language.replace(r'\\N', 'UNKNOWN')\n",
    "title_akas.attributes = title_akas.attributes.replace(r'\\N','')"
   ]
  },
  {
   "cell_type": "markdown",
   "id": "5f7fb97f",
   "metadata": {},
   "source": [
    "**title.basics.tsv.gz** - Contains the following information for titles:\n",
    "```\n",
    "tconst (string) - alphanumeric unique identifier of the title\n",
    "titleType (string) – the type/format of the title (e.g. movie, short, tvseries, tvepisode, video, etc)\n",
    "primaryTitle (string) – the more popular title / the title used by the filmmakers on promotional materials at the point of release\n",
    "originalTitle (string) - original title, in the original language\n",
    "isAdult (boolean) - 0: non-adult title; 1: adult title\n",
    "startYear (YYYY) – represents the release year of a title. In the case of TV Series, it is the series start year\n",
    "endYear (YYYY) – TV Series end year. ‘\\N’ for all other title types\n",
    "runtimeMinutes – primary runtime of the title, in minutes\n",
    "genres (string array) – includes up to three genres associated with the title\n",
    "```"
   ]
  },
  {
   "cell_type": "code",
   "execution_count": 68,
   "id": "00a6b29e",
   "metadata": {},
   "outputs": [],
   "source": [
    "title_basics.startYear = title_basics.startYear.replace(r'\\N','0')\n",
    "title_basics.startYear = title_basics.startYear.astype('int64')\n",
    "title_basics.endYear = title_basics.endYear.replace(r'\\N', '0')\n",
    "title_basics.endYear = title_basics.endYear.astype('int64')\n",
    "title_basics.runtimeMinutes = title_basics.runtimeMinutes.replace(r'\\N','UNKNOWN')\n",
    "title_basics.genres.fillna('UNKNOWN', inplace=True)\n",
    "title_basics.primaryTitle.fillna('UNKNOWN', inplace=True)\n",
    "title_basics.originalTitle.fillna('UNKNOWN', inplace=True)"
   ]
  },
  {
   "cell_type": "markdown",
   "id": "d430c043",
   "metadata": {},
   "source": [
    "**title.crew.tsv.gz** – Contains the director and writer information for all the titles in IMDb. Fields include:\n",
    "```\n",
    "tconst (string) - alphanumeric unique identifier of the title\n",
    "directors (array of nconsts) - director(s) of the given title\n",
    "writers (array of nconsts) – writer(s) of the given title\n",
    "```"
   ]
  },
  {
   "cell_type": "code",
   "execution_count": 74,
   "id": "f5b3c167",
   "metadata": {},
   "outputs": [],
   "source": [
    "title_crew.directors = title_crew.directors.replace(r'\\N','UNKNOWN')\n",
    "title_crew.writers = title_crew.writers.replace(r'\\N', 'UNKNOWN')"
   ]
  },
  {
   "cell_type": "markdown",
   "id": "78ef885f",
   "metadata": {},
   "source": [
    "**title.episode.tsv.gz** – Contains the tv episode information. Fields include:\n",
    "```\n",
    "tconst (string) - alphanumeric identifier of episode\n",
    "parentTconst (string) - alphanumeric identifier of the parent TV Series\n",
    "seasonNumber (integer) – season number the episode belongs to\n",
    "episodeNumber (integer) – episode number of the tconst in the TV series\n",
    "```"
   ]
  },
  {
   "cell_type": "code",
   "execution_count": 80,
   "id": "2a516d53",
   "metadata": {},
   "outputs": [],
   "source": [
    "title_episode.seasonNumber = title_episode.seasonNumber.replace(r'\\N', 'UNKNOWN')\n",
    "title_episode.episodeNumber = title_episode.episodeNumber.replace(r'\\N', 'UNKNOWN')"
   ]
  },
  {
   "cell_type": "markdown",
   "id": "6560d713",
   "metadata": {},
   "source": [
    "**title.principals.tsv.gz** – Contains the principal cast/crew for titles\n",
    "```\n",
    "tconst (string) - alphanumeric unique identifier of the title\n",
    "ordering (integer) – a number to uniquely identify rows for a given titleId\n",
    "nconst (string) - alphanumeric unique identifier of the name/person\n",
    "category (string) - the category of job that person was in\n",
    "job (string) - the specific job title if applicable, else '\\N'\n",
    "characters (string) - the name of the character played if applicable, else '\\N'\n",
    "```"
   ]
  },
  {
   "cell_type": "code",
   "execution_count": 88,
   "id": "6c65efef",
   "metadata": {},
   "outputs": [],
   "source": [
    "title_principals.job = title_principals.job.replace(r'\\N','UNKNOWN')\n",
    "title_principals.characters = title_principals.characters.replace(r'\\N','UNKNOWN')"
   ]
  },
  {
   "cell_type": "markdown",
   "id": "cc7d61a9",
   "metadata": {},
   "source": [
    "**title.ratings.tsv.gz** – Contains the IMDb rating and votes information for titles\n",
    "```\n",
    "tconst (string) - alphanumeric unique identifier of the title\n",
    "averageRating – weighted average of all the individual user ratings\n",
    "numVotes - number of votes the title has received\n",
    "```\n",
    "\n",
    "**name.basics.tsv.gz** – Contains the following information for names:\n",
    "```\n",
    "nconst (string) - alphanumeric unique identifier of the name/person\n",
    "primaryName (string)– name by which the person is most often credited\n",
    "birthYear – in YYYY format\n",
    "deathYear – in YYYY format if applicable, else '\\N'\n",
    "primaryProfession (array of strings)– the top-3 professions of the person\n",
    "knownForTitles (array of tconsts) – titles the person is known for\n",
    "```"
   ]
  },
  {
   "cell_type": "code",
   "execution_count": 100,
   "id": "b9d2ae6d",
   "metadata": {},
   "outputs": [],
   "source": [
    "name_basics.knownForTitles = name_basics.knownForTitles.replace(r'\\N','UNKNOWN')\n",
    "name_basics.birthYear = name_basics.birthYear.replace(r'\\N','0').astype('int64')\n",
    "name_basics.deathYear = name_basics.deathYear.replace(r'\\N','0').astype('int64')"
   ]
  },
  {
   "cell_type": "markdown",
   "id": "b1c5a9ed",
   "metadata": {},
   "source": [
    "## Save cleaned versions"
   ]
  },
  {
   "cell_type": "code",
   "execution_count": 8,
   "id": "14061252",
   "metadata": {},
   "outputs": [
    {
     "name": "stdout",
     "output_type": "stream",
     "text": [
      "CPU times: user 1min 8s, sys: 1.36 s, total: 1min 10s\n",
      "Wall time: 1min 10s\n"
     ]
    }
   ],
   "source": [
    "%%time\n",
    "\n",
    "title_basics.to_csv(\"data/title_basics.csv\", index=None)\n",
    "title_ratings.to_csv(\"data/title_ratings.csv\", index=None)\n",
    "title_principals.to_csv(\"data/title_principals.csv\", index=None)\n",
    "title_akas.to_csv(\"data/title_akas.csv\", index=None)\n",
    "title_crew.to_csv(\"data/title_crew.csv\", index=None)\n",
    "name_basics.to_csv(\"data/name_basics.csv\", index=None)\n",
    "title_episode.to_csv(\"data/title_episode.csv\", index=None)"
   ]
  },
  {
   "cell_type": "code",
   "execution_count": null,
   "id": "3d31655a",
   "metadata": {},
   "outputs": [],
   "source": []
  }
 ],
 "metadata": {
  "kernelspec": {
   "display_name": "Python 3 (ipykernel)",
   "language": "python",
   "name": "python3"
  },
  "language_info": {
   "codemirror_mode": {
    "name": "ipython",
    "version": 3
   },
   "file_extension": ".py",
   "mimetype": "text/x-python",
   "name": "python",
   "nbconvert_exporter": "python",
   "pygments_lexer": "ipython3",
   "version": "3.7.10"
  }
 },
 "nbformat": 4,
 "nbformat_minor": 5
}
